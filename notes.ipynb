{
 "cells": [
  {
   "cell_type": "markdown",
   "id": "897e8043-3e2d-47b4-9503-5786e54a3c77",
   "metadata": {},
   "source": [
    "# jc: A Fast and Well-Conditioned Spectral Method\n",
    "\n",
    "Olver and Townsend [[1]](https://epubs.siam.org/doi/10.1137/120865458) introduce a Petrov-Galerkin method for generating sparse discretizations of linear differential equations.\n",
    "<div>\n",
    "<img src=\"title.png\" width=\"500\"/>\n",
    "</div>"
   ]
  },
  {
   "cell_type": "markdown",
   "id": "5955eed1-448c-4509-bfc5-5f235384d15a",
   "metadata": {},
   "source": [
    "## Motivation\n",
    "Goal: numerically solve ordinary differential equations and partial differential equations (ODEs/PDEs) very quickly while still maintaining high accuracy\n",
    "\n",
    "Spectral methods promise high accuracy, but typically produce dense matrices when the continuous DE is discretized. These dense matrices can result in poor runtime scaling with problem size.\n",
    "\n",
    "Finite difference methods have very sparse matrices and can be very fast. However, they are rather inaccurate.\n",
    "\n",
    "Olver and Townsend [[1]](https://epubs.siam.org/doi/10.1137/120865458) introduce a technique that combines the speed of sparse finite difference methods with the accuracy of a spectral method."
   ]
  },
  {
   "cell_type": "markdown",
   "id": "c2be3a82-2b81-4340-9495-2b5b66d4fa10",
   "metadata": {},
   "source": [
    "## Example differential equation\n",
    "Consider the TDGL equation:\n",
    "$$\\partial_t\\psi=\\psi+(1+ib)\\partial_x^2\\psi-(1+ic)|\\psi|^2\\psi$$\n",
    "with $\\psi=\\psi(x,t)$ being the order parameter defined on the interval $x \\in [0,L]$. Consider Dirichlet boundary conditions $\\psi(0,t)=\\psi(L,t) = 0$. Assume $L = 300$, $b = 0.5$, and $c=-1.76$.\n",
    "\n",
    "This equation is interesting because it has non-linearities, which means we have to play some tricks to apply the methods from the paper.\n",
    "\n",
    "Goal: write an implicit-explicit Euler method to solve this equation given an initial condition."
   ]
  },
  {
   "cell_type": "markdown",
   "id": "e2a9005d-98e0-410f-844f-c9259db01cb2",
   "metadata": {},
   "source": [
    "## Setup\n",
    "\n",
    "Import required packages and define our parameters"
   ]
  },
  {
   "cell_type": "code",
   "execution_count": null,
   "id": "b9752819-ceff-47bb-a31c-2a8086d51e70",
   "metadata": {},
   "outputs": [],
   "source": [
    "using ProgressMeter\n",
    "using BenchmarkTools\n",
    "using FFTW\n",
    "using LinearAlgebra\n",
    "using SparseArrays\n",
    "using Plots\n",
    "using LaTeXStrings\n",
    "\n",
    "L = 300\n",
    "b = 0.5\n",
    "c = -1.76\n",
    "; # semicolons suppress output in an interactive environment such as a REPL or notebook"
   ]
  },
  {
   "cell_type": "markdown",
   "id": "b6a93ff0-227d-4c84-829d-0ef760fa7a99",
   "metadata": {},
   "source": [
    "## Discretization in time\n",
    "Let $\\psi^n(x) = \\psi(x,t_0+n\\Delta t)$, where $\\Delta t$ is the size of the timestep.\n",
    "### Implicit/explicit timestepping methods\n",
    "Consider the general PDE:\n",
    "$$\\partial_t\\psi = f(\\psi)$$\n",
    "In the following, we know the value of the unknown $\\psi$ at the current timestep $\\psi^n = \\psi(t_0+n\\Delta t)$, and want to determine the value of the unknown at the subsequent timestep $\\psi^{n+1} = \\psi(t_0 + (n+1)\\Delta t)$. We approximate the differential operator $\\partial_t$ with the following expression:\n",
    "$$\\partial_t\\psi \\approx \\frac{\\psi(t+\\Delta t)-\\psi(t)}{\\Delta t}$$\n",
    "In the limit as $\\Delta t$ goes to zero, this approximation becomes more an more accurate. However, for a finite $\\Delta t$, we can consider several cases (e.g. forward-difference, backward-difference, and second-order), each with different properties. The case shown above is equivalent to a backward-Euler method.\n",
    "#### Explicit (forward-Euler) method:\n",
    "$$\\psi^{n+1} - \\psi^n = \\Delta tf(\\psi^n)$$\n",
    "#### Implicit (backward-Euler) method:\n",
    "$$\\psi^{n+1} - \\psi^n = \\Delta tf(\\psi^{n+1})$$\n",
    "#### Implicit (trapezoidal) method:\n",
    "$$\\psi^{n+1} - \\psi^n = \\frac{1}{2}\\Delta t\\left[f(\\psi^{n+1})+f(\\psi^n)\\right]$$\n",
    "The allure of the explicit forward-Euler method is that the solve is trivial, since we don't have to find the roots of $f$. This is not the case for implicit methods. However, if $f$ is linear, i.e. we can write $f(\\psi) = \\mathcal{L}\\psi$ where $\\mathcal{L}$ is some linear operator (a matrix or differential/integral operator), it is still quite straightforward to implement. Let's consider the backwards-Euler method:\n",
    "$$\\psi^{n+1}-\\psi^n = \\Delta t\\mathcal{L}\\psi^{n+1}$$\n",
    "Rearranging terms, we have a linear equation for $\\psi^{n+1}$ with a right hand side of $\\psi^n$:\n",
    "$$(1-\\Delta t\\mathcal{L})\\psi^{n+1} = \\psi^n$$\n",
    "This can be solved with a direct solver (e.g. LU factorization) and can be quite fast (i.e. linear in the number of elements of $\\psi$) depending on the properties of $\\mathcal{L}$. The update equation for the trapezoidal method looks very similar:\n",
    "$$(2 - \\Delta t \\mathcal{L})\\psi^{n+1} = (2 + \\Delta t \\mathcal{L})\\psi^{n+1}$$\n",
    "If $f$ is nonlinear, however, things get a bit more difficult. One can continue to do a full implicit solve, where one must resort to a nonlinear root-finding method, such as Newton to find the value of $\\psi^{n+1}$ for which the update equation is satisfied. However, it's also possible to split $f$ into $f(\\psi) = \\mathcal{L}\\psi + f_{N\\mathcal{L}}(\\psi)$, where $\\mathcal{L}$ is a linear operator and $f_{N\\mathcal{L}}$ contains the nonlinear part. This method assumes that the timestep is sufficiently small that $f(\\psi^{n+1}) \\approx \\mathcal{L}\\psi^{n+1}+f_{N\\mathcal{L}}(\\psi^n)$.\n",
    "\n",
    "Therefore, the implicit-explicit update equation is:\n",
    "$$(1 - \\Delta t\\mathcal{L})\\psi^{n+1} = \\psi^n + \\Delta tf_{N\\mathcal{L}}(\\psi^n)$$\n",
    "This has the advantage of not requiring a Netwon method, while still retaining some of the nice qualities of an implicit method, like allowing for larger timesteps."
   ]
  },
  {
   "cell_type": "markdown",
   "id": "abe325a1-7b39-4d4b-9b65-adbe9a831ba4",
   "metadata": {},
   "source": [
    "## Discretization in space\n",
    "Now that we have a linear equation to solve to update our unknown for each timestep $\\psi^n(x)$, we need to discretize the spatial operator $\\mathcal{L}$.\n",
    "This is where the key methods from the paper come into play [[1]](https://epubs.siam.org/doi/10.1137/120865458). \n",
    "\n",
    "### Chebyshev polynomials, fast transforms, and the Petrov-Galerkin method\n",
    "The Chebyshev polynomials are related to the Fourier basis functions in that $T_n = \\cos(n\\Theta)$ where the trigonometric coordinate $\\Theta$ is related to the spatial coordinate $x$ by $x = \\cos\\Theta$.\n",
    "We can plot the first few Chebyshev polynomials"
   ]
  },
  {
   "cell_type": "code",
   "execution_count": null,
   "id": "63302267-58a4-4431-99b3-2eb6c09dbfa6",
   "metadata": {},
   "outputs": [],
   "source": [
    "plot()\n",
    "for n=0:3\n",
    "    plot!(range(-1,1,1000), cos.(n.*acos.(range(-1,1,1000))), label=L\"T_%$n(x)\")\n",
    "end\n",
    "plot!()"
   ]
  },
  {
   "cell_type": "markdown",
   "id": "bbc14f38-08ad-43bd-a5a5-36a4e49b4522",
   "metadata": {},
   "source": [
    "We will expand the solution $\\psi^{n+1}(x)$ in terms of a trial basis of Chebyshev polynomials:\n",
    "$$\\psi^n(x)\\approx\\sum_{k=0}^{N-1}\\hat{\\psi^n_k}T_k(x)$$\n",
    "We can define our unknown vector in terms of these coefficients $\\psi^n=\\begin{pmatrix}\\hat\\psi^n_0&\\ldots&\\hat\\psi^n_{N-1}\\end{pmatrix}^T$.\n",
    "\n",
    "Because of the relationship between Chebyshev polynomials and the Fourier basis (Chebyshev polynomials are just Fourier basis functions in disguise), we can leverage Fast Fourier Transforms to go between $\\hat\\psi^n_k$ and $\\psi^n(x_k)$:"
   ]
  },
  {
   "cell_type": "code",
   "execution_count": null,
   "id": "4189f906-b73a-418e-bb36-d8cacb9cd89c",
   "metadata": {},
   "outputs": [],
   "source": [
    "function chebyshev_nodes(N_grid::Int64)::Vector{Float64}\n",
    "    x_n = cos.(pi / (N_grid - 1) .* (0:(N_grid-1)))\n",
    "    reverse!(x_n)\n",
    "    return x_n\n",
    "end\n",
    "\n",
    "function chebyshev_coeffs!(u_n::Vector{<:Number}, pDCT1::FFTW.Plan)\n",
    "    # pDCT1 = FFTW.plan_r2r(u_n, FFTW.REDFT00, 1)\n",
    "    # reverse isn't strictly necessary, but it's nicer for plotting\n",
    "    reverse!(u_n)\n",
    "    pDCT1 * u_n # in place\n",
    "    u_n ./= length(u_n) - 1.0\n",
    "    # c_0, c_(N-1) = 1/2, c_k = 1 otherwise\n",
    "    u_n[1] /= 2.0\n",
    "    u_n[end] /= 2.0\n",
    "    nothing\n",
    "end\n",
    "\n",
    "function chebyshev_values!(uhat_k::Vector{<:Number}, pDCT1::FFTW.Plan)\n",
    "    uhat_k[1] *= 2.0\n",
    "    uhat_k[end] *= 2.0\n",
    "    # pDCT1 = FFTW.plan_r2r(uhat_k, FFTW.REDFT00, 1)\n",
    "    pDCT1 * uhat_k\n",
    "    uhat_k ./= 2.0\n",
    "    # reverse isn't strictly necessary, but it's nicer for plotting\n",
    "    reverse!(uhat_k)\n",
    "    nothing\n",
    "end;"
   ]
  },
  {
   "cell_type": "markdown",
   "id": "86d501d9-8ad4-4b88-b464-78c94b0d9396",
   "metadata": {},
   "source": [
    "Let's use these functions to plot the Chebyshev polynomials again:"
   ]
  },
  {
   "cell_type": "code",
   "execution_count": null,
   "id": "6986a12f-0354-4c4c-821a-cb6b85c1b696",
   "metadata": {},
   "outputs": [],
   "source": [
    "N = 128\n",
    "x_n = chebyshev_nodes(N)\n",
    "d = zeros(N)\n",
    "p_g2c = FFTW.plan_r2r!(d, FFTW.REDFT00, 1, flags = FFTW.ESTIMATE)\n",
    "p_c2g = FFTW.plan_r2r!(d, FFTW.REDFT00, 1, flags = FFTW.ESTIMATE)\n",
    "p = plot()\n",
    "for m = 0:3\n",
    "    d = zeros(N)\n",
    "    d[m+1] = 1\n",
    "    chebyshev_values!(d, p_c2g)\n",
    "    plot!(p, x_n, d, label=L\"T_%$m(x)\")\n",
    "end\n",
    "xlabel!(p, L\"x\")\n",
    "ylabel!(p, L\"T_n(x)\")\n",
    "plot(p)"
   ]
  },
  {
   "cell_type": "markdown",
   "id": "f7fb33c6-c7e4-4fae-9a25-861159ebda00",
   "metadata": {},
   "source": [
    "If we plot the error compared to the analytical expression for $T_n(x)$, we can see we're at machine precision:"
   ]
  },
  {
   "cell_type": "code",
   "execution_count": null,
   "id": "18d1591f-95f7-426d-9e12-8df0a3b38e7e",
   "metadata": {},
   "outputs": [],
   "source": [
    "p = plot()\n",
    "for m = 0:3\n",
    "    d = zeros(N)\n",
    "    d[m+1] = 1\n",
    "    chebyshev_values!(d, p_c2g)\n",
    "    plot!(p, x_n, d.-cos.(m.*acos.(x_n)))\n",
    "end\n",
    "xlabel!(p, L\"x\")\n",
    "ylabel!(p, \"error\")\n",
    "plot(p, legend=false)"
   ]
  },
  {
   "cell_type": "markdown",
   "id": "57a2cd06-93dd-463d-b6fb-f137fffd74c8",
   "metadata": {},
   "source": [
    "After expanding our unknown in terms of Chebyshev polynomials, we are left with a finite number of equations to solve, however they must be translated into a weak form, since we cannot use a computer to enforce our new set of equations to hold for every value of $x$.\n",
    "In the weak form, we take an inner product over every element of a finite-dimensional test basis and only require that our PDE be satisfied over these inner products. Considering a PDE of the form $\\mathcal{L}u = f$ with unknown $u$, forcing term $f$, and differential operator $\\mathcal{L}$, this translates into the following set of equations:\n",
    "$$\\begin{aligned}\\langle w,\\mathcal{L}u\\rangle = \\langle w,f\\rangle \\\\\\forall w \\in W_N\\end{aligned}$$\n",
    "where $w$ is any test basis belonging to the finite-dimensional vector space $W_N$.\n",
    "\n",
    "By selecting ultraspherical/Gegenbauer polynomials for our test basis $W_N$ and Chebyshev polynomials for our trial basis $U_N$, we can ensure that the resulting matrix equation will be sparse."
   ]
  },
  {
   "cell_type": "markdown",
   "id": "24d05326-90b1-48c3-8310-561ee301d2ef",
   "metadata": {},
   "source": [
    "### Constructing differentiation and conversion operators\n",
    "Constant coefficient terms in $\\mathcal{L}$ aren't too tricky to deal with, because they pop right out of the inner products. How should we deal with differentiation operators though?\n",
    "\n",
    "Using the inner product: $\\langle\\partial_xT_n(x),C^{(1)}_{m}(x)\\rangle=n\\delta_{m,n-1}$ and relationship between successive derivatives of ultraspherical polynomials, we get the following differentiation matrix when operating on our unknown vector of Chebyshev coefficients:\n",
    "$$D_{\\lambda}=2^{\\lambda-1}(\\lambda-1)!\\begin{bmatrix}\\overbrace{0 ... 0}^{\\lambda~{\\rm times}} & 1 &\\\\&& 2 \\\\&&& 3\\\\&&&&\\ddots\\end{bmatrix}, \\lambda>0$$\n",
    "We can implement this in Julia as so:"
   ]
  },
  {
   "cell_type": "code",
   "execution_count": null,
   "id": "b854ad62-538d-4296-84b1-a3f17efb2230",
   "metadata": {},
   "outputs": [],
   "source": [
    "function D(N::Int64, lambda::Int64)::SparseMatrixCSC{Float64,Int}\n",
    "    return (2^(lambda - 1) * factorial(lambda - 1)) .* spdiagm(lambda => lambda:(N-1))\n",
    "end;"
   ]
  },
  {
   "cell_type": "markdown",
   "id": "3cfe3693-76fb-4a08-bde4-35edfb30004b",
   "metadata": {},
   "source": [
    "Conversion between Chebyshev coefficients and the various ultraspherical coefficients can be done through the following matrices\n",
    "$$\\begin{aligned}S_{\\lambda}&=\\begin{bmatrix}1 & &-\\frac{\\lambda}{\\lambda+2}\\\\&\\frac{\\lambda}{\\lambda+1}&&-\\frac{\\lambda}{\\lambda+3}\\\\&&\\frac{\\lambda}{\\lambda+2}&&-\\frac{\\lambda}{\\lambda+4}\\\\&&&\\ddots&&\\ddots\\end{bmatrix},\\lambda>1\\\\S_0&=\\begin{bmatrix}1 & & -\\frac{1}{2}\\\\&\\frac{1}{2}&&-\\frac{1}{2}\\\\&&\\frac{1}{2}&&-\\frac{1}{2}\\\\&&&\\ddots&&\\ddots\\end{bmatrix}\\end{aligned}$$\n",
    "Which has the following Julia implementation"
   ]
  },
  {
   "cell_type": "code",
   "execution_count": null,
   "id": "516fab90-9e06-44cd-a3ed-098c7545b674",
   "metadata": {},
   "outputs": [],
   "source": [
    "function S(N::Int64, lambda::Int64)::SparseMatrixCSC{Float64,Int}\n",
    "    if lambda >= 1\n",
    "        return spdiagm(\n",
    "            0 => lambda ./ (lambda .+ collect(0:(N-1))),\n",
    "            2 => -lambda ./ (lambda .+ collect(2:(N-1))),\n",
    "        )\n",
    "    end\n",
    "    S0 = spdiagm(0 => ones(N), 2 => -ones(N - 2))\n",
    "    S0[1, 1] = 2\n",
    "    return S0 ./ 2\n",
    "end;"
   ]
  },
  {
   "cell_type": "markdown",
   "id": "4dd03189-3029-43d6-943b-4ed2046f37b3",
   "metadata": {},
   "source": [
    "We can now use some of the functions we've created to take some derivatives of basic functions. Take for example the function\n",
    "$$f(x)=\\frac{1}{1+10x^2}$$"
   ]
  },
  {
   "cell_type": "code",
   "execution_count": null,
   "id": "1f36ec51-d612-4112-b4bb-8d7ff7c877e9",
   "metadata": {},
   "outputs": [],
   "source": [
    "N = 64\n",
    "x_n = chebyshev_nodes(N)\n",
    "d = zeros(N)\n",
    "p_g2c = FFTW.plan_r2r!(d, FFTW.REDFT00, 1, flags = FFTW.ESTIMATE)\n",
    "p_c2g = FFTW.plan_r2r!(d, FFTW.REDFT00, 1, flags = FFTW.ESTIMATE)\n",
    "p = plot()\n",
    "f = tanh.(x_n*2)\n",
    "plot!(p,x_n, f, label=L\"\\tanh(x)\")\n",
    "chebyshev_coeffs!(f, p_g2c)\n",
    "dfdx = S(N, 0) \\ (D(N, 1) * f)\n",
    "chebyshev_values!(dfdx, p_c2g)\n",
    "plot!(p,x_n,dfdx, label=L\"\\frac{d}{dx}\\tanh(x)\")\n",
    "xlabel!(p, L\"x\")\n",
    "ylabel!(p, L\"f\")\n",
    "plot(p)"
   ]
  },
  {
   "cell_type": "code",
   "execution_count": null,
   "id": "fe04a515-c71f-4ffc-ab0f-2e834303eaa1",
   "metadata": {},
   "outputs": [],
   "source": [
    "plot(x_n,dfdx-2*sech.(2*x_n).^2,label=\"error\")\n",
    "xlabel!(L\"x\")"
   ]
  },
  {
   "cell_type": "markdown",
   "id": "f85f3682-14c8-4c01-a648-f2bae37d8257",
   "metadata": {},
   "source": [
    "Let's compare with a first-order finite-difference method"
   ]
  },
  {
   "cell_type": "code",
   "execution_count": null,
   "id": "f15349f5-bbec-43a5-975b-3b7253d7315f",
   "metadata": {},
   "outputs": [],
   "source": [
    "x_n = range(-1,1,N)\n",
    "f = tanh.(x_n*2)\n",
    "dfdx = (f[3:end] - f[1:end-2])./(2*(x_n[2] - x_n[1]))\n",
    "plot(x_n, 2*sech.(2*x_n).^2, label=\"analytical\")\n",
    "plot!(x_n[2:end-1], dfdx, label=\"finite difference\")\n",
    "xlabel!(L\"x\")"
   ]
  },
  {
   "cell_type": "code",
   "execution_count": null,
   "id": "9d79dc2c-38ec-45a5-be11-ec9cbf0b3467",
   "metadata": {},
   "outputs": [],
   "source": [
    "plot(x_n[2:end-1], dfdx - 2*sech.(2*x_n[2:end-1]).^2,label=\"error\")\n",
    "xlabel!(L\"x\")"
   ]
  },
  {
   "cell_type": "markdown",
   "id": "a0458092-7fea-4395-85b3-ba6bead5c9e3",
   "metadata": {},
   "source": [
    "The error for the finite-difference method is nearly on the order of 1%, whereas the error for the spectral method is approaching machine precision.\n",
    "How different are the runtimes?"
   ]
  },
  {
   "cell_type": "code",
   "execution_count": null,
   "id": "6b7c661e-a113-4f54-acd7-8f023a858cd4",
   "metadata": {},
   "outputs": [],
   "source": [
    "function dfdx_fd(f::Vector{Float64}, dx::Float64)::Vector{Float64}\n",
    "    return (f[3:end] - f[1:end-2])./(2*dx)\n",
    "end\n",
    "\n",
    "function dfdx_us(f::Vector{Float64}, p_g2c::FFTW.Plan, p_c2g::FFTW.Plan, S0::SparseMatrixCSC{Float64,Int}, D1::SparseMatrixCSC{Float64,Int})::Vector{Float64}   \n",
    "    chebyshev_coeffs!(f, p_g2c)\n",
    "    dfdx = S0 \\ (D1 * f)\n",
    "    chebyshev_values!(dfdx, p_c2g)\n",
    "    return dfdx\n",
    "end\n",
    "\n",
    "x_n = chebyshev_nodes(N)\n",
    "d = zeros(N)\n",
    "p_g2c = FFTW.plan_r2r!(d, FFTW.REDFT00, 1, flags = FFTW.EXHAUSTIVE)\n",
    "p_c2g = FFTW.plan_r2r!(d, FFTW.REDFT00, 1, flags = FFTW.EXHAUSTIVE)\n",
    "S0 = S(N, 0)\n",
    "D1 = D(N, 1)\n",
    "\n",
    "x_n = range(-1,1,N)\n",
    "dx = x_n[2] - x_n[1]\n",
    "f = tanh.(x_n*2)\n",
    "@btime dfdx_fd($f, $dx)\n",
    "x_n = chebyshev_nodes(N)\n",
    "f = tanh.(x_n*2)\n",
    "@btime dfdx_us($f, $p_g2c, $p_c2g, $S0, $D1);"
   ]
  },
  {
   "cell_type": "markdown",
   "id": "e9fc3876-845a-4c10-8e93-5774248f0e6c",
   "metadata": {},
   "source": [
    "Okay, the finite-difference method is about ten times faster for the same number of points. How good is the accuracy if we increase the number of points for the finite difference method so that the runtime is the same (i.e. for the same runtime, how accurate is the finite difference method compared to the spectral method)?"
   ]
  },
  {
   "cell_type": "code",
   "execution_count": null,
   "id": "fc4a2ff9-3209-4f3e-9afa-3dfc6da689f8",
   "metadata": {},
   "outputs": [],
   "source": [
    "N = 1000\n",
    "x_n = range(-1,1,N)\n",
    "dx = x_n[2] - x_n[1]\n",
    "\n",
    "f = tanh.(x_n*2)\n",
    "@btime dfdx_fd($f, $dx);"
   ]
  },
  {
   "cell_type": "code",
   "execution_count": null,
   "id": "237ddf34-3858-49a4-be43-965e4a6f0482",
   "metadata": {},
   "outputs": [],
   "source": [
    "f = tanh.(x_n*2)\n",
    "plot(x_n[2:end-1], dfdx_fd(f, dx) - 2*sech.(2*x_n[2:end-1]).^2,label=\"error\")\n",
    "xlabel!(L\"x\")"
   ]
  },
  {
   "cell_type": "markdown",
   "id": "06e77e38-4b18-4b68-9319-4c1ded23b753",
   "metadata": {},
   "source": [
    "Considerably better than with $N = 64$, but a far cry from the accuracy of the spectral method"
   ]
  },
  {
   "cell_type": "markdown",
   "id": "6e14ccf0-55d5-4a6a-8875-754173372956",
   "metadata": {},
   "source": [
    "## Solving TDGL equation in one dimension\n",
    "\n",
    "Recalling our derived expression for the update equation:\n",
    "$$(1 - \\Delta t\\mathcal{L})\\psi^{n+1} = \\psi^n + \\Delta tf_{N\\mathcal{L}}(\\psi^n)$$\n",
    "\n",
    "We can plug in the specific operators from the TDGL equation:\n",
    "$$\\partial_t\\psi=\\psi+(1+ib)\\partial_x^2\\psi-(1+ic)|\\psi|^2\\psi$$\n",
    "\n",
    "First, group the linear and nonlinear terms:\n",
    "$$\\partial_t\\psi = \\left[1 + (1+ib)\\partial_x^2\\right]\\psi-(1+ic)|\\psi|^2\\psi$$\n",
    "\n",
    "Then discretize in time:\n",
    "$$\\left(1 - \\Delta t - \\Delta t (1+ib)\\partial_x^2\\right)\\psi^{n+1} = \\psi^n - \\Delta t(1+ic)|\\psi^n|^2\\psi^n$$\n",
    "\n",
    "And finally discretize in space:\n",
    "$$\\left((1-\\Delta t)S_1S_0 - \\Delta t (1+ib)D_2\\right)\\hat{\\psi}^{n+1} = S_1S_0\\hat{\\psi}^n - \\Delta t(1+ic)S_1S_0\\mathcal{T}^{-1}(|\\psi^n|^2\\psi^n)$$\n",
    "\n",
    "where $\\hat{\\psi}$ and $\\psi$ are the Chebyshev $T$ polynomial coefficients and grid values of the solution $\\psi(x)$, $D_2$ is the differentiation matrix, $S_1$ and $S_0$ are conversion matrices between Ultraspherical and Gegenbauer polynomial coefficients, and $\\mathcal{T}^{-1}$ is the Chebyshev grid-to-coefficient transform.\n",
    "\n",
    "$\\psi^n$ can be determined from $\\hat{\\psi}^n$ by using the coefficient-to-grid transform $\\mathcal{T}$.\n"
   ]
  },
  {
   "cell_type": "markdown",
   "id": "23de80f6-578e-4a31-82f4-c7d043935936",
   "metadata": {},
   "source": [
    "Now, to solve, all we need to do is:\n",
    "$$\\psi^{n+1}\\leftarrow \\mathbf{L}\\textbackslash\\mathbf{r}(\\psi^{n})$$\n",
    "Where $\\textbackslash$ denotes solving the linear system, $\\mathbf{L}$ is the left-hand-side linear operator:\n",
    "$$\\mathbf{L} = (1-\\Delta t)S_1S_0 - \\Delta t (1+ib)D_2$$\n",
    "and $\\mathbf{r}(\\psi^n)$ is the right-hand-side nonlinear operator:\n",
    "$$\\mathbf{r}(\\psi^n) = S_1S_0\\hat{\\psi}^n - \\Delta t(1+ic)S_1S_0\\mathcal{T}^{-1}(|\\psi^n|^2\\psi^n)$$"
   ]
  },
  {
   "cell_type": "markdown",
   "id": "ab16443e-f679-4e40-ad85-04c6a3357b28",
   "metadata": {},
   "source": [
    "### Boundary conditions and chain rule\n",
    "Notice that the differentiation matrix of order $\\lambda$ has $\\lambda$ rows that are zero. This is because the differentiation operator reduces the degree of each polynomial basis by $\\lambda$. For a polynomial of degree $\\lambda^{\\prime}<\\lambda$, taking the derivative $\\lambda$ times will result in a value of 0.\n",
    "\n",
    "$$D_{\\lambda}=2^{\\lambda-1}(\\lambda-1)!\\begin{bmatrix}\\overbrace{0 ... 0}^{\\lambda~{\\rm times}} & 1 &\\\\&& 2 \\\\&&& 3\\\\&&&&\\ddots\\end{bmatrix}, \\lambda>0$$\n",
    "\n",
    "This provides a great opportunity to enforce boundary conditions using boundary bordering by replacing the rows in the matrix.\n",
    "\n",
    "For homogeneous Dirichlet boundary conditions $\\psi(0)=\\psi(L)=0$, we need two equations. We can enforce these equations by evaluating the solution from its Chebyshev series expansion at the endpoints using the following identity for the Chebyshev polynomials:\n",
    "\n",
    "$$T_n(\\pm 1)=(\\pm 1)^n$$\n",
    "\n",
    "Because the differential operator is defined for coordinates $x \\in [-1,1]$ and our interval of interest is on the interval $[0,L]$, we need to rescale the differentiation operator by a factor of $\\frac{2}{L}$."
   ]
  },
  {
   "cell_type": "markdown",
   "id": "5d7455e6-1ae0-4075-b12d-537adac31a75",
   "metadata": {},
   "source": [
    "### Defining LHS operator"
   ]
  },
  {
   "cell_type": "markdown",
   "id": "b736bcb4-d7f5-41df-8aaa-74f2472c1ef9",
   "metadata": {},
   "source": [
    "Let's implement the left-hand-side (LHS) operator:\n",
    "$$\\mathbf{L} = (1-\\Delta t)S_1S_0 - \\Delta t (1+ib)D_2$$\n",
    "with boundary bordering (applied to the zero-rows of the $D_2$ differentiation matrix) to enforce the boundary conditions $\\psi(0)=\\psi(L)=0$"
   ]
  },
  {
   "cell_type": "code",
   "execution_count": null,
   "id": "052fe2e7-3635-4926-89f8-c6db2c652a2c",
   "metadata": {},
   "outputs": [],
   "source": [
    "function GL_LHS(N::Int64, dt::Float64, b::Float64)::AbstractArray{<:Number}\n",
    "    A = (1-dt).*(S(N,1)*S(N,0)) .- (((2/L)^2)*dt*(1+1im*b)).*D(N,2)\n",
    "    # add boundary conditions\n",
    "    A_bc = spzeros(ComplexF64,N,N)\n",
    "    A_bc[1,:] = (-1).^collect(0:N-1)\n",
    "    A_bc[2,:] .= 1\n",
    "    A_bc[3:end,:] = A[1:end-2,:]\n",
    "    return A_bc\n",
    "end;"
   ]
  },
  {
   "cell_type": "markdown",
   "id": "11772894-23ba-4b9e-920e-7afd4142a74b",
   "metadata": {},
   "source": [
    "Plotting the entries of our LHS matrix in log-scale, we see it is quite sparse"
   ]
  },
  {
   "cell_type": "code",
   "execution_count": null,
   "id": "0f773d41-0007-498b-a9ea-e0b7bbca941c",
   "metadata": {},
   "outputs": [],
   "source": [
    "dt = 0.02\n",
    "N = 64\n",
    "LHS = GL_LHS(N, dt, b)\n",
    "heatmap(log10.(abs.(Matrix(LHS))), aspect_ratio=:equal, xlim=(0.5,N+0.5),ylim=(0.5,N+0.5), yflip=true)"
   ]
  },
  {
   "cell_type": "code",
   "execution_count": null,
   "id": "626878ba-c49a-43cf-947d-8ee6d3ee7260",
   "metadata": {},
   "outputs": [],
   "source": [
    "LU = lu(GL_LHS(64, dt, b))\n",
    "spy(abs.(LU.L), title=\"sparsity of L factor\")"
   ]
  },
  {
   "cell_type": "code",
   "execution_count": null,
   "id": "54602117-aa0e-4917-a2e9-8bb63f3bf671",
   "metadata": {},
   "outputs": [],
   "source": [
    "spy(abs.(LU.U), title=\"sparsity of U factor\")"
   ]
  },
  {
   "cell_type": "markdown",
   "id": "1534cad9-e942-4488-b7b8-5f9186a0f115",
   "metadata": {},
   "source": [
    "Both of these matrices are very sparse!"
   ]
  },
  {
   "cell_type": "code",
   "execution_count": null,
   "id": "7ce10f37-df03-48a1-9e6c-d6efeac9ebf5",
   "metadata": {},
   "outputs": [],
   "source": [
    "nnz(LU.L)/prod(size(LU.L))"
   ]
  },
  {
   "cell_type": "code",
   "execution_count": null,
   "id": "8ef2fc28-373f-4281-80cf-ae02f2738059",
   "metadata": {},
   "outputs": [],
   "source": [
    "nnz(LU.U)/prod(size(LU.U))"
   ]
  },
  {
   "cell_type": "markdown",
   "id": "fbac8289-cb3b-4e63-86ca-799bde4f5106",
   "metadata": {},
   "source": [
    "#### Benchmarking LHS solver with random RHS\n",
    "To see the power of the sparse matrix, let's see what the runtime scaling is as we refine our grid"
   ]
  },
  {
   "cell_type": "code",
   "execution_count": null,
   "id": "f018b09d-b3f8-4a57-a847-048aa4385061",
   "metadata": {},
   "outputs": [],
   "source": [
    "log2N_range = 1:1:16\n",
    "solve_runtime = Array{Any}(nothing, length(log2N_range))\n",
    "dt = 0.02\n",
    "@showprogress for (i,log2N) in enumerate(log2N_range)\n",
    "    N = 2^log2N\n",
    "    LHS = GL_LHS(N, dt, b)\n",
    "    LU = lu(LHS)\n",
    "    f = rand(ComplexF64,N)\n",
    "    solve_runtime[i] = @benchmark LU\\f\n",
    "end"
   ]
  },
  {
   "cell_type": "code",
   "execution_count": null,
   "id": "6d5baa71-7e96-4b8b-bf1b-b866a8ced79a",
   "metadata": {},
   "outputs": [],
   "source": [
    "solve_runtime[1]"
   ]
  },
  {
   "cell_type": "code",
   "execution_count": null,
   "id": "f56ecf51-46cc-4bc5-913f-3deb9a1771ad",
   "metadata": {},
   "outputs": [],
   "source": [
    "solve_runtime[end]"
   ]
  },
  {
   "cell_type": "code",
   "execution_count": null,
   "id": "9e980458-a439-474f-ba96-0e7c4ef536d1",
   "metadata": {},
   "outputs": [],
   "source": [
    "plot(2 .^ log2N_range, getfield.(median.(solve_runtime), :time)/1e9, xaxis=:log, yaxis=:log, markershape=:circle, label=L\"LU\\backslash f\")\n",
    "xlabel!(\"N\")\n",
    "ylabel!(\"runtime [s]\")"
   ]
  },
  {
   "cell_type": "markdown",
   "id": "67d19ecc-cadc-4958-98a3-b3561abd0ff8",
   "metadata": {},
   "source": [
    "### Defining RHS operator"
   ]
  },
  {
   "cell_type": "markdown",
   "id": "dcc888b8-a6ac-4b7a-88cb-999ff6df2434",
   "metadata": {},
   "source": [
    "Now that our LHS operator is defined, we're almost done with our solver! We just need to implement the right-hand-side (RHS) operator so that we can update our solution vector for each timestep"
   ]
  },
  {
   "cell_type": "code",
   "execution_count": null,
   "id": "d06f5ee2-9e1c-401a-bd3a-cf2a76381a3a",
   "metadata": {},
   "outputs": [],
   "source": [
    "function GL_RHS(\n",
    "    Ahat::AbstractArray{<:Number},\n",
    "    S::AbstractArray{<:Number},\n",
    "    N::Int64,\n",
    "    dt::Float64,\n",
    "    c::Float64,\n",
    "    p_g2c::FFTW.Plan,\n",
    "    p_c2g::FFTW.Plan,\n",
    ")::AbstractArray{<:Number}\n",
    "    chebyshev_values!(Ahat, p_c2g)\n",
    "    RHS = (1 .- (dt*(1 + 1im*c)).*abs.(Ahat).^2).*Ahat\n",
    "    chebyshev_coeffs!(RHS, p_g2c)\n",
    "    RHS = S*RHS\n",
    "    RHS_bc = zeros(ComplexF64, N)\n",
    "    RHS_bc[3:end] = RHS[1:end-2]\n",
    "    return RHS_bc\n",
    "end;"
   ]
  },
  {
   "cell_type": "code",
   "execution_count": null,
   "id": "d0537a1f-17eb-4a83-ae62-6851418847b5",
   "metadata": {},
   "outputs": [],
   "source": [
    "rhs_runtime = Array{Any}(nothing, length(log2N_range))\n",
    "dt = 0.02\n",
    "@showprogress for (i,log2N) in enumerate(log2N_range)\n",
    "    N = 2^log2N\n",
    "    S1S0 = S(N,1)*S(N,0)\n",
    "    d = zeros(ComplexF64, N)\n",
    "    p_g2c = FFTW.plan_r2r!(d, FFTW.REDFT00, 1, flags = FFTW.ESTIMATE)\n",
    "    p_c2g = FFTW.plan_r2r!(d, FFTW.REDFT00, 1, flags = FFTW.ESTIMATE)\n",
    "    f = rand(ComplexF64,N)\n",
    "    rhs_runtime[i] = @benchmark GL_RHS($f,$S1S0,$N,$dt,$c,$p_g2c,$p_c2g)\n",
    "end"
   ]
  },
  {
   "cell_type": "code",
   "execution_count": null,
   "id": "3b865746-d344-41d1-97af-b1a8bd798065",
   "metadata": {},
   "outputs": [],
   "source": [
    "plot(2 .^ log2N_range, getfield.(median.(solve_runtime), :time)/1e9, xaxis=:log, yaxis=:log, markershape=:circle, label=L\"LU\\backslash f\")\n",
    "plot!(2 .^ log2N_range, getfield.(median.(rhs_runtime), :time)/1e9, xaxis=:log, yaxis=:log, markershape=:rect, label=\"eval RHS\")\n",
    "xlabel!(\"N\")\n",
    "ylabel!(\"runtime [s]\")"
   ]
  },
  {
   "cell_type": "markdown",
   "id": "1af35b09-2166-4e83-bec6-f326f8205fea",
   "metadata": {},
   "source": [
    "### Putting it all together - solving the TDGL equation"
   ]
  },
  {
   "cell_type": "code",
   "execution_count": null,
   "id": "bc78ebcb-ad91-4aac-ab5e-47da2257f27b",
   "metadata": {},
   "outputs": [],
   "source": [
    "function solve_GL(\n",
    "    A_0::AbstractArray{<:Number},\n",
    "    N::Int64,\n",
    "    dt::Float64,\n",
    "    b::Float64,\n",
    "    c::Float64,\n",
    "    n_iter::Int64,\n",
    "    d_save::Int64,\n",
    ")::AbstractArray{<:Number}\n",
    "    S1S0 = S(N,1)*S(N,0)\n",
    "    LHS = GL_LHS(N, dt, b)\n",
    "    LU = lu(LHS)\n",
    "    A_save = zeros(ComplexF64, N, Int(floor(n_iter/d_save)))\n",
    "    temp = zeros(ComplexF64, N)\n",
    "    p_g2c = FFTW.plan_r2r!(temp, FFTW.REDFT00, 1, flags = FFTW.EXHAUSTIVE)\n",
    "    p_c2g = FFTW.plan_r2r!(temp, FFTW.REDFT00, 1, flags = FFTW.EXHAUSTIVE)\n",
    "    A = A_0[:]\n",
    "    chebyshev_coeffs!(A, p_g2c);\n",
    "    @showprogress for i in 1:n_iter\n",
    "        A = LU\\GL_RHS(A, S1S0, N, dt, c, p_g2c, p_c2g)\n",
    "        if ((i-1) % d_save) == 0\n",
    "            temp = A[:]\n",
    "            chebyshev_values!(temp, p_c2g)\n",
    "            A_save[:,Int(floor((i-1)/d_save))+1] = temp\n",
    "        end\n",
    "    end\n",
    "    return A_save\n",
    "end"
   ]
  },
  {
   "cell_type": "code",
   "execution_count": null,
   "id": "ddb5de3a-8e8a-4196-85c7-fb4f52943d38",
   "metadata": {},
   "outputs": [],
   "source": [
    "N = 512\n",
    "dt = 0.02\n",
    "L = 20\n",
    "b = 0.1\n",
    "c = -0.1\n",
    "x_n = L/2 .* (1 .+ chebyshev_nodes(N))\n",
    "A_0 = sin.((2*pi/L) .* x_n)\n",
    "N_iter = 10000\n",
    "d_save = 5\n",
    "A_solve = solve_GL(A_0, N, dt, b, c, N_iter, d_save);"
   ]
  },
  {
   "cell_type": "code",
   "execution_count": null,
   "id": "47989193-d722-4e13-b561-82f3c552d7d7",
   "metadata": {},
   "outputs": [],
   "source": [
    "N_t = Int(floor(N_iter/d_save))\n",
    "mag = heatmap(x_n, 1:N_t, abs.(A_solve'), xlabel=L\"$x$\",ylabel=L\"$t/\\tau_0$\", title=L\"$|A|$\")\n",
    "phase = heatmap(x_n, 1:N_t, angle.(A_solve'),xlabel=L\"$x$\", ylabel=L\"$t/\\tau_0$\", title=L\"$\\angle A$\")\n",
    "plot(mag, phase, layout = (1,2))\n",
    "plot!(size=(900,500))"
   ]
  },
  {
   "cell_type": "code",
   "execution_count": null,
   "id": "7d5aa299-a018-46ef-8994-2ec3264998a3",
   "metadata": {},
   "outputs": [],
   "source": [
    "anim = @animate for i = 1:N_t\n",
    "    plot(x_n, real.(A_solve[:,i]), imag.(A_solve[:,i]), zcolor=abs.(A_solve[:,i]), marker=:circ, markerstrokewidth=0, linewidth=0)\n",
    "    plot!(xlim=(0,L), ylim=(-1,1), zlim=(-1,1), clim=(0,1.1), legend=false)\n",
    "    plot!(proj_type = :ortho, camera = (15, round(atand(1 / √2); digits = 3)))\n",
    "end"
   ]
  },
  {
   "cell_type": "code",
   "execution_count": null,
   "id": "2c2505d7-0e88-4941-ae07-7efdf8caa63c",
   "metadata": {},
   "outputs": [],
   "source": [
    "gif(anim, \"anim_tdgl.gif\", fps = 25)"
   ]
  },
  {
   "cell_type": "markdown",
   "id": "39c10ed4-dcc0-47cb-8e55-e13b189d1339",
   "metadata": {},
   "source": [
    "## Relationship with generalized TDGL\n",
    "If we consider for simplicity $\\gamma = \\mu = 0$ and $\\mathbf{A} = 0$, as well as $\\epsilon = 1$, then the generalized TDGL equation becomes\n",
    "$$\\partial_t\\psi=\\psi-|\\psi|^2\\psi+\\partial_x^2\\psi$$\n",
    "which is identical to what we'd written previously with $b = c = 0$."
   ]
  }
 ],
 "metadata": {
  "kernelspec": {
   "display_name": "Julia 1.11.5",
   "language": "julia",
   "name": "julia-1.11"
  },
  "language_info": {
   "file_extension": ".jl",
   "mimetype": "application/julia",
   "name": "julia",
   "version": "1.11.5"
  }
 },
 "nbformat": 4,
 "nbformat_minor": 5
}
