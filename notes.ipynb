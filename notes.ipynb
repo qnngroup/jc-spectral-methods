{
 "cells": [
  {
   "cell_type": "markdown",
   "id": "897e8043-3e2d-47b4-9503-5786e54a3c77",
   "metadata": {},
   "source": [
    "# 05-06 (or 05-13?)\n",
    "Interactive julia/numerical methods tutorial\n",
    "\n",
    "https://epubs.siam.org/doi/abs/10.1137/141000671\n",
    "\n",
    "Need to be more focused on examples, provide less details and just have references for good reading maybe?\n",
    "\n",
    "Implicit-explicit, spectral TDGL solver."
   ]
  },
  {
   "cell_type": "markdown",
   "id": "c2be3a82-2b81-4340-9495-2b5b66d4fa10",
   "metadata": {},
   "source": [
    "## Problem statement\n",
    "Consider the TDGL equation:\n",
    "$$\\partial_t\\psi=\\psi+(1+ib)\\partial_x^2\\psi-(1+ic)|\\psi|^2\\psi$$\n",
    "with $\\psi=\\psi(x,t)$ being the order parameter defined on the interval $x \\in [0,L]$. Consider Dirichlet boundary conditions $\\psi(0,t)=\\psi(L,t) = 0$. Assume $L = 300$, $b = 0.5$, and $c=-1.76$.\n",
    "\n",
    "Goal: write an implicit-explicit Euler method to solve this equation given an initial condition."
   ]
  },
  {
   "cell_type": "markdown",
   "id": "e2a9005d-98e0-410f-844f-c9259db01cb2",
   "metadata": {},
   "source": [
    "## Setup\n",
    "\n",
    "Import required packages and define our parameters"
   ]
  },
  {
   "cell_type": "code",
   "execution_count": null,
   "id": "6b9997e9-964e-4423-9a42-eb5a89395c41",
   "metadata": {},
   "outputs": [],
   "source": [
    "import Pkg; Pkg.add(\"BenchmarkTools\")"
   ]
  },
  {
   "cell_type": "code",
   "execution_count": null,
   "id": "b9752819-ceff-47bb-a31c-2a8086d51e70",
   "metadata": {},
   "outputs": [],
   "source": [
    "using ProgressMeter\n",
    "using BenchmarkTools\n",
    "using FFTW\n",
    "using LinearAlgebra\n",
    "using SparseArrays\n",
    "using Plots\n",
    "using LaTeXStrings\n",
    "\n",
    "L = 300\n",
    "b = 0.5\n",
    "c = -1.76"
   ]
  },
  {
   "cell_type": "markdown",
   "id": "b6a93ff0-227d-4c84-829d-0ef760fa7a99",
   "metadata": {},
   "source": [
    "## Discretization in time\n",
    "Let $\\psi^n(x) = \\psi(x,t_0+n\\Delta t)$, where $\\Delta t$ is the size of the timestep.\n",
    "### Implicit/explicit timestepping methods\n",
    "Consider the general PDE:\n",
    "$$\\partial_t\\psi = f(\\psi)$$\n",
    "In the following, we know the value of the unknown $\\psi$ at the current timestep $\\psi^n = \\psi(t_0+n\\Delta t)$, and want to determine the value of the unknown at the subsequent timestep $\\psi^{n+1} = \\psi(t_0 + (n+1)\\Delta t)$. We approximate the differential operator $\\partial_t$ with the following expression:\n",
    "$$\\partial_t\\psi \\approx \\frac{\\psi(t+\\Delta t)-\\psi(t)}{\\Delta t}$$\n",
    "#### Explicit (forward-Euler) method:\n",
    "$$\\psi^{n+1} - \\psi^n = \\Delta tf(\\psi^n)$$\n",
    "#### Implicit (backward-Euler) method:\n",
    "$$\\psi^{n+1} - \\psi^n = \\Delta tf(\\psi^{n+1})$$\n",
    "#### Implicit (trapezoidal) method:\n",
    "$$\\psi^{n+1} - \\psi^n = \\frac{1}{2}\\Delta t\\left[f(\\psi^{n+1})+f(\\psi^n)\\right]$$\n",
    "The allure of the explicit forward-Euler method is that the solve is trivial, since we don't have to find the roots of $f$. This is not the case for implicit methods. However, if $f$ is linear, i.e. we can write $f(\\psi) = \\mathcal{L}\\psi$ where $\\mathcal{L}$ is some linear operator (a matrix or differential/integral operator), it is still quite straightforward to implement. Let's consider the backwards-Euler method:\n",
    "$$\\psi^{n+1}-\\psi^n = \\Delta t\\mathcal{L}\\psi^{n+1}$$\n",
    "Rearranging terms, we have a linear equation for $\\psi^{n+1}$ with a right hand side of $\\psi^n$:\n",
    "$$(1-\\Delta t\\mathcal{L})\\psi^{n+1} = \\psi^n$$\n",
    "This can be solved with a direct solver (e.g. LU factorization) and can be quite fast (i.e. linear in the number of elements of $\\psi$) depending on the properties of $\\mathcal{L}$. The update equation for the trapezoidal method looks very similar:\n",
    "$$(2 - \\Delta t \\mathcal{L})\\psi^{n+1} = (2 + \\Delta t \\mathcal{L})\\psi^{n+1}$$\n",
    "If $f$ is nonlinear, however, things get a bit more difficult. One can continue to do a full implicit solve, where one must resort to a nonlinear root-finding method, such as Newton. However, it's also possible to split $f$ into $f(\\psi) = \\mathcal{L}\\psi + f_{N\\mathcal{L}}(\\psi)$, where $\\mathcal{L}$ is a linear operator and $f_{N\\mathcal{L}}$ contains the nonlinear part. The implicit-explicit method assumes that the timestep is sufficiently small that $f(\\psi^{n+1}) \\approx \\mathcal{L}\\psi^{n+1}+f_{N\\mathcal{L}}(\\psi^n)$.\n",
    "\n",
    "Therefore, the implicit-explicit update equation is:\n",
    "$$(1 - \\Delta t\\mathcal{L})\\psi^{n+1} = \\psi^n + \\Delta tf_{N\\mathcal{L}}(\\psi^n)$$\n",
    "This has the advantage of not requiring a Netwon method, while still retaining some of the nice qualities of an implicit method, like allowing for larger timesteps."
   ]
  },
  {
   "cell_type": "markdown",
   "id": "abe325a1-7b39-4d4b-9b65-adbe9a831ba4",
   "metadata": {},
   "source": [
    "## Discretization in space\n",
    "Now that we have a linear equation to solve to update our unknown for each timestep $\\psi^n(x)$, we need to discretize the spatial operator $\\mathcal{L}$.\n",
    "\n",
    "### Chebyshev polynomials, fast transforms, and the Petrov-Galerkin method\n",
    "The Chebyshev polynomials are related to the Fourier basis functions in that $T_n = cos(n\\Theta)$ where the trigonometric coordinate $\\Theta$ is related to the spatial coordinate $x$ by $x = \\cos\\Theta$.\n",
    "We can plot the first few Chebyshev polynomials"
   ]
  },
  {
   "cell_type": "code",
   "execution_count": null,
   "id": "63302267-58a4-4431-99b3-2eb6c09dbfa6",
   "metadata": {},
   "outputs": [],
   "source": [
    "plot()\n",
    "for n=0:3\n",
    "    plot!(range(-1,1,1000), cos.(n.*acos.(range(-1,1,1000))), label=L\"T_%$n(x)\")\n",
    "end\n",
    "plot!()"
   ]
  },
  {
   "cell_type": "markdown",
   "id": "bbc14f38-08ad-43bd-a5a5-36a4e49b4522",
   "metadata": {},
   "source": [
    "We will expand the solution $\\psi^{n+1}(x)$ in terms of a trial basis of Chebyshev polynomials:\n",
    "$$\\psi^n(x)\\approx\\sum_{k=0}^{N-1}\\hat{\\psi^n_k}T_k(x)$$\n",
    "We can define our unknown vector in terms of these coefficients $\\psi^n=\\begin{pmatrix}\\hat\\psi^n_0&\\ldots&\\hat\\psi^n_{N-1}\\end{pmatrix}^T$.\n",
    "\n",
    "Because of the relationship between Chebyshev polynomials and the Fourier basis (Chebyshev polynomials are just Fourier basis functions in disguise), we can leverage Fast Fourier Transforms to go between $\\hat\\psi^n_k$ and $\\psi^n(x_k)$:"
   ]
  },
  {
   "cell_type": "code",
   "execution_count": null,
   "id": "4189f906-b73a-418e-bb36-d8cacb9cd89c",
   "metadata": {},
   "outputs": [],
   "source": [
    "function chebyshev_nodes(N_grid::Int64)::Vector{Float64}\n",
    "    x_n = cos.(pi / (N_grid - 1) .* (0:(N_grid-1)))\n",
    "    reverse!(x_n)\n",
    "    return x_n\n",
    "end\n",
    "\n",
    "function chebyshev_coeffs!(u_n::Vector{<:Number}, pDCT1::FFTW.Plan)\n",
    "    # pDCT1 = FFTW.r2r(u_n, FFTW.REDFT00, 1)\n",
    "    # reverse isn't strictly necessary, but it's nicer for plotting\n",
    "    reverse!(u_n)\n",
    "    pDCT1 * u_n # in place\n",
    "    u_n ./= length(u_n) - 1.0\n",
    "    # c_0, c_(N-1) = 1/2, c_k = 1 otherwise\n",
    "    u_n[1] /= 2.0\n",
    "    u_n[end] /= 2.0\n",
    "    nothing\n",
    "end\n",
    "\n",
    "function chebyshev_values!(uhat_k::Vector{<:Number}, pDCT1::FFTW.Plan)\n",
    "    uhat_k[1] *= 2.0\n",
    "    uhat_k[end] *= 2.0\n",
    "    # pDCT1 = FFTW.r2r(uhat_k, FFTW.REDFT00, 1)\n",
    "    pDCT1 * uhat_k\n",
    "    uhat_k ./= 2.0\n",
    "    # reverse isn't strictly necessary, but it's nicer for plotting\n",
    "    reverse!(uhat_k)\n",
    "    nothing\n",
    "end"
   ]
  },
  {
   "cell_type": "markdown",
   "id": "86d501d9-8ad4-4b88-b464-78c94b0d9396",
   "metadata": {},
   "source": [
    "Let's use these functions to plot the Chebyshev polynomials again:"
   ]
  },
  {
   "cell_type": "code",
   "execution_count": null,
   "id": "6986a12f-0354-4c4c-821a-cb6b85c1b696",
   "metadata": {},
   "outputs": [],
   "source": [
    "N = 128\n",
    "x_n = chebyshev_nodes(N)\n",
    "d = zeros(N)\n",
    "p_g2c = FFTW.plan_r2r!(d, FFTW.REDFT00, 1, flags = FFTW.ESTIMATE)\n",
    "p_c2g = FFTW.plan_r2r!(d, FFTW.REDFT00, 1, flags = FFTW.ESTIMATE)\n",
    "p = plot()\n",
    "for m = 0:3\n",
    "    d = zeros(N)\n",
    "    d[m+1] = 1\n",
    "    chebyshev_values!(d, p_c2g)\n",
    "    plot!(p, x_n, d, label=L\"T_%$m(x)\")\n",
    "end\n",
    "xlabel!(p, L\"x\")\n",
    "ylabel!(p, L\"T_n(x)\")\n",
    "plot(p)"
   ]
  },
  {
   "cell_type": "markdown",
   "id": "f7fb33c6-c7e4-4fae-9a25-861159ebda00",
   "metadata": {},
   "source": [
    "If we plot the error compared to the analytical expression for $T_n(x)$, we can see we're at machine precision:"
   ]
  },
  {
   "cell_type": "code",
   "execution_count": null,
   "id": "18d1591f-95f7-426d-9e12-8df0a3b38e7e",
   "metadata": {},
   "outputs": [],
   "source": [
    "p = plot()\n",
    "for m = 0:3\n",
    "    d = zeros(N)\n",
    "    d[m+1] = 1\n",
    "    chebyshev_values!(d, p_c2g)\n",
    "    plot!(p, x_n, d.-cos.(m.*acos.(x_n)))\n",
    "end\n",
    "xlabel!(p, L\"x\")\n",
    "ylabel!(p, \"error\")\n",
    "plot(p, legend=false)"
   ]
  },
  {
   "cell_type": "markdown",
   "id": "57a2cd06-93dd-463d-b6fb-f137fffd74c8",
   "metadata": {},
   "source": [
    "After expanding our unknown in terms of Chebyshev polynomials, we are left with a finite number of equations to solve, however they must be translated into a weak form, since we cannot use a computer to enforce our PDE to hold for every value of $x$.\n",
    "In the weak form, we take an inner product over every element of a finite-dimensional test basis and only require that our PDE be satisfied over these inner products. Considering a PDE of the form $\\mathcal{L}u = f$ with unknown $u$, forcing term $f$, and differential operator $\\mathcal{L}$, this translates into the following set of equations:\n",
    "$$\\begin{aligned}\\langle w,\\mathcal{L}u\\rangle = \\langle w,f\\rangle \\\\\\forall w \\in W_N\\end{aligned}$$\n",
    "where $w$ is any test basis belonging to the finite-dimensional vector space $W_N$.\n",
    "\n",
    "By carefully selecting ultraspherical/Gegenbauer polynomials for our test basis $W_N$ and Chebyshev polynomials for our trial basis, we can ensure that the resulting matrix equation will be sparse."
   ]
  },
  {
   "cell_type": "markdown",
   "id": "24d05326-90b1-48c3-8310-561ee301d2ef",
   "metadata": {},
   "source": [
    "### Constructing differentiation and conversion operators\n",
    "Using the inner product: $\\langle\\partial_xT_n(x),C^{(1)}_{m}(x)\\rangle=n\\delta_{m,n-1}$ and relationship between successive derivatives of ultraspherical polynomials, we get the following differentiation matrix when operating on our unknown vector of Chebyshev coefficients:\n",
    "$$D_{\\lambda}=2^{\\lambda-1}(\\lambda-1)!\\begin{bmatrix}\\overbrace{0 ... 0}^{\\lambda~{\\rm times}} & 1 &\\\\&& 2 \\\\&&& 3\\\\&&&&\\ddots\\end{bmatrix}, \\lambda>0$$\n",
    "We can implement this in Julia as so:"
   ]
  },
  {
   "cell_type": "code",
   "execution_count": null,
   "id": "b854ad62-538d-4296-84b1-a3f17efb2230",
   "metadata": {},
   "outputs": [],
   "source": [
    "function D(N::Int64, lambda::Int64)::SparseMatrixCSC{Float64,Int}\n",
    "    return (2^(lambda - 1) * factorial(lambda - 1)) .* spdiagm(lambda => lambda:(N-1))\n",
    "end"
   ]
  },
  {
   "cell_type": "markdown",
   "id": "3cfe3693-76fb-4a08-bde4-35edfb30004b",
   "metadata": {},
   "source": [
    "Conversion between Chebyshev coefficients and the various ultraspherical coefficients can be done through the following matrices\n",
    "$$\\begin{aligned}S_{\\lambda}&=\\begin{bmatrix}1 & &-\\frac{\\lambda}{\\lambda+2}\\\\&\\frac{\\lambda}{\\lambda+1}&&-\\frac{\\lambda}{\\lambda+3}\\\\&&\\frac{\\lambda}{\\lambda+2}&&-\\frac{\\lambda}{\\lambda+4}\\\\&&&\\ddots&&\\ddots\\end{bmatrix},\\lambda>1\\\\S_0&=\\begin{bmatrix}1 & & -\\frac{1}{2}\\\\&\\frac{1}{2}&&-\\frac{1}{2}\\\\&&\\frac{1}{2}&&-\\frac{1}{2}\\\\&&&\\ddots&&\\ddots\\end{bmatrix}\\end{aligned}$$\n",
    "Which has the following Julia implementation"
   ]
  },
  {
   "cell_type": "code",
   "execution_count": null,
   "id": "516fab90-9e06-44cd-a3ed-098c7545b674",
   "metadata": {},
   "outputs": [],
   "source": [
    "function S(N::Int64, lambda::Int64)::SparseMatrixCSC{Float64,Int}\n",
    "    if lambda >= 1\n",
    "        return spdiagm(\n",
    "            0 => lambda ./ (lambda .+ collect(0:(N-1))),\n",
    "            2 => -lambda ./ (lambda .+ collect(2:(N-1))),\n",
    "        )\n",
    "    end\n",
    "    S0 = spdiagm(0 => ones(N), 2 => -ones(N - 2))\n",
    "    S0[1, 1] = 2\n",
    "    return S0 ./ 2\n",
    "end"
   ]
  },
  {
   "cell_type": "markdown",
   "id": "4dd03189-3029-43d6-943b-4ed2046f37b3",
   "metadata": {},
   "source": [
    "We can now use some of the functions we've created to take some derivatives of basic functions. Take for example the function\n",
    "$$f(x)=\\frac{1}{1+10x^2}$$"
   ]
  },
  {
   "cell_type": "code",
   "execution_count": null,
   "id": "1f36ec51-d612-4112-b4bb-8d7ff7c877e9",
   "metadata": {},
   "outputs": [],
   "source": [
    "N = 64\n",
    "x_n = chebyshev_nodes(N)\n",
    "d = zeros(N)\n",
    "p_g2c = FFTW.plan_r2r!(d, FFTW.REDFT00, 1, flags = FFTW.ESTIMATE)\n",
    "p_c2g = FFTW.plan_r2r!(d, FFTW.REDFT00, 1, flags = FFTW.ESTIMATE)\n",
    "p = plot()\n",
    "f = tanh.(x_n*2)\n",
    "plot!(p,x_n, f, label=L\"\\tanh(x)\")\n",
    "chebyshev_coeffs!(f, p_g2c)\n",
    "dfdx = S(N, 0) \\ (D(N, 1) * f)\n",
    "chebyshev_values!(dfdx, p_c2g)\n",
    "plot!(p,x_n,dfdx, label=L\"\\frac{d}{dx}\\tanh(x)\")\n",
    "xlabel!(p, L\"x\")\n",
    "ylabel!(p, L\"f\")\n",
    "plot(p)"
   ]
  },
  {
   "cell_type": "code",
   "execution_count": null,
   "id": "fe04a515-c71f-4ffc-ab0f-2e834303eaa1",
   "metadata": {},
   "outputs": [],
   "source": [
    "plot(x_n,dfdx-2*sech.(2*x_n).^2,label=\"error\")\n",
    "xlabel!(L\"x\")"
   ]
  },
  {
   "cell_type": "markdown",
   "id": "f85f3682-14c8-4c01-a648-f2bae37d8257",
   "metadata": {},
   "source": [
    "Let's compare with a first-order finite-difference method"
   ]
  },
  {
   "cell_type": "code",
   "execution_count": null,
   "id": "f15349f5-bbec-43a5-975b-3b7253d7315f",
   "metadata": {},
   "outputs": [],
   "source": [
    "x_n = range(-1,1,N)\n",
    "f = tanh.(x_n*2)\n",
    "dfdx = (f[3:end] - f[1:end-2])./(2*(x_n[2] - x_n[1]))\n",
    "plot(x_n, 2*sech.(2*x_n).^2, label=\"analytical\")\n",
    "plot!(x_n[2:end-1], dfdx, label=\"finite difference\")\n",
    "xlabel!(L\"x\")"
   ]
  },
  {
   "cell_type": "code",
   "execution_count": null,
   "id": "9d79dc2c-38ec-45a5-be11-ec9cbf0b3467",
   "metadata": {},
   "outputs": [],
   "source": [
    "plot(x_n[2:end-1], dfdx - 2*sech.(2*x_n[2:end-1]).^2,label=\"error\")\n",
    "xlabel!(L\"x\")"
   ]
  },
  {
   "cell_type": "markdown",
   "id": "a0458092-7fea-4395-85b3-ba6bead5c9e3",
   "metadata": {},
   "source": [
    "The error for the finite-difference method is nearly on the order of 1%, whereas the error for the spectral method is approaching machine precision.\n",
    "How different are the runtimes?"
   ]
  },
  {
   "cell_type": "code",
   "execution_count": null,
   "id": "6b7c661e-a113-4f54-acd7-8f023a858cd4",
   "metadata": {},
   "outputs": [],
   "source": [
    "function dfdx_fd(f::Vector{Float64}, dx::Float64)::Vector{Float64}\n",
    "    return (f[3:end] - f[1:end-2])./(2*dx)\n",
    "end\n",
    "\n",
    "function dfdx_us(f::Vector{Float64}, p_g2c::FFTW.Plan, p_c2g::FFTW.Plan, S0::SparseMatrixCSC{Float64,Int}, D1::SparseMatrixCSC{Float64,Int})::Vector{Float64}   \n",
    "    chebyshev_coeffs!(f, p_g2c)\n",
    "    dfdx = S0 \\ (D1 * f)\n",
    "    chebyshev_values!(dfdx, p_c2g)\n",
    "    return dfdx\n",
    "end\n",
    "\n",
    "N = 256\n",
    "x_n = chebyshev_nodes(N)\n",
    "d = zeros(N)\n",
    "p_g2c = FFTW.plan_r2r!(d, FFTW.REDFT00, 1, flags = FFTW.ESTIMATE)\n",
    "p_c2g = FFTW.plan_r2r!(d, FFTW.REDFT00, 1, flags = FFTW.ESTIMATE)\n",
    "dx = x_n[2] - x_n[1]\n",
    "S0 = S(N, 0)\n",
    "D1 = D(N, 1)\n",
    "\n",
    "f = tanh.(x_n*2)\n",
    "@btime dfdx_fd($f, $dx)\n",
    "f = tanh.(x_n*2)\n",
    "@btime dfdx_us($f, $p_g2c, $p_c2g, $S0, $D1)"
   ]
  },
  {
   "cell_type": "markdown",
   "id": "39c10ed4-dcc0-47cb-8e55-e13b189d1339",
   "metadata": {},
   "source": [
    "\n",
    "\n",
    "## Relationship with generalized TDGL\n",
    "If we consider for simplicity $\\gamma = \\mu = 0$ and $\\mathbf{A} = 0$, as well as $\\epsilon = 1$, then the generalized TDGL equation becomes\n",
    "$$\\partial_t\\psi=\\psi-|\\psi|^2\\psi+\\partial_x^2\\psi$$\n",
    "which is identical to what we'd written previously with $b = c = 0$."
   ]
  }
 ],
 "metadata": {
  "kernelspec": {
   "display_name": "Julia 1.11.5",
   "language": "julia",
   "name": "julia-1.11"
  },
  "language_info": {
   "file_extension": ".jl",
   "mimetype": "application/julia",
   "name": "julia",
   "version": "1.11.5"
  }
 },
 "nbformat": 4,
 "nbformat_minor": 5
}
